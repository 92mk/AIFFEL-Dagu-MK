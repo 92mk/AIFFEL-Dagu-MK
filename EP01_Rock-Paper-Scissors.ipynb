{
 "cells": [
  {
   "cell_type": "code",
   "execution_count": 1,
   "id": "e73844f2",
   "metadata": {},
   "outputs": [],
   "source": [
    "from PIL import Image\n",
    "import os, glob\n",
    "import numpy as np\n",
    "import matplotlib.pyplot as plt\n",
    "import tensorflow as tf\n",
    "from tensorflow import keras"
   ]
  },
  {
   "cell_type": "code",
   "execution_count": 2,
   "id": "63792d19",
   "metadata": {},
   "outputs": [],
   "source": [
    "def resize_images(img_path):\n",
    "    images = glob.glob(img_path + \"/*.jpg\")\n",
    "    \n",
    "    print(len(images), \" images to be resized.\")\n",
    "    \n",
    "    target_size = (28, 28)\n",
    "    for img in images:\n",
    "        old_img = Image.open(img)\n",
    "        new_img = old_img.resize(target_size, Image.ANTIALIAS)\n",
    "        new_img.save(img, \"JPEG\")\n",
    "        \n",
    "    print(len(images), \" images resized.\")"
   ]
  },
  {
   "cell_type": "code",
   "execution_count": 3,
   "id": "f15bc67c",
   "metadata": {},
   "outputs": [
    {
     "name": "stdout",
     "output_type": "stream",
     "text": [
      "300  images to be resized.\n",
      "300  images resized.\n",
      "Scissor image resized (28 X 28)\n",
      "300  images to be resized.\n",
      "300  images resized.\n",
      "Rock image resized (28 X 28)\n",
      "300  images to be resized.\n",
      "300  images resized.\n",
      "Paper image resized (28 X 28)\n"
     ]
    }
   ],
   "source": [
    "image_dir_path = os.getenv(\"HOME\") + \"/aiffel/rock_scissor_paper/scissor\"\n",
    "resize_images(image_dir_path)\n",
    "print(\"Scissor image resized (28 X 28)\")\n",
    "\n",
    "image_dir_path = os.getenv(\"HOME\") + \"/aiffel/rock_scissor_paper/rock\"\n",
    "resize_images(image_dir_path)\n",
    "print(\"Rock image resized (28 X 28)\")\n",
    "\n",
    "image_dir_path = os.getenv(\"HOME\") + \"/aiffel/rock_scissor_paper/paper\"\n",
    "resize_images(image_dir_path)\n",
    "print(\"Paper image resized (28 X 28)\")"
   ]
  },
  {
   "cell_type": "code",
   "execution_count": 4,
   "id": "ca947a2a",
   "metadata": {},
   "outputs": [],
   "source": [
    "def load_data(img_path, number_of_data=4500):\n",
    "    img_size = 28\n",
    "    color = 3\n",
    "    \n",
    "    imgs = np.zeros(number_of_data * img_size * img_size * color, dtype = np.int32).reshape(number_of_data, img_size, img_size, color)\n",
    "    labels = np.zeros(number_of_data, dtype = np.int32)\n",
    "    \n",
    "    idx = 0\n",
    "    for file in glob.iglob(img_path + '/scissor/*.jpg'):\n",
    "        img = np.array(Image.open(file), dtype = np.int32)\n",
    "        imgs[idx, :, :, :] = img\n",
    "        labels[idx] = 0    # scissor: 0\n",
    "        idx = idx + 1\n",
    "    \n",
    "    for file in glob.iglob(img_path + '/rock/*.jpg'):\n",
    "        img = np.array(Image.open(file), dtype = np.int32)\n",
    "        imgs[idx, :, :, :] = img\n",
    "        labels[idx] = 1    # rock: 1\n",
    "        idx = idx + 1\n",
    "        \n",
    "    for file in glob.iglob(img_path + '/paper/*.jpg'):\n",
    "        img = np.array(Image.open(file), dtype = np.int32)\n",
    "        imgs[idx, :, :, :] = img\n",
    "        labels[idx] = 2    # paper: 2\n",
    "        idx = idx + 1\n",
    "        \n",
    "    print(\"학습데이터(x_train)의 이미지 개수는\", idx, \"입니다.\")\n",
    "    return imgs, labels"
   ]
  },
  {
   "cell_type": "code",
   "execution_count": 6,
   "id": "ec40851c",
   "metadata": {},
   "outputs": [
    {
     "name": "stdout",
     "output_type": "stream",
     "text": [
      "학습데이터(x_train)의 이미지 개수는 900 입니다.\n",
      "x_train shape: (4500, 28, 28, 3)\n",
      "y_train shape: (4500,)\n"
     ]
    }
   ],
   "source": [
    "image_dir_path = os.getenv(\"HOME\") + \"/aiffel/rock_scissor_paper\"\n",
    "(x_train, y_train) = load_data(image_dir_path)\n",
    "x_train_norm = x_train / 255.0\n",
    "\n",
    "print(\"x_train shape: {}\".format(x_train.shape))\n",
    "print(\"y_train shape: {}\".format(y_train.shape))"
   ]
  },
  {
   "cell_type": "code",
   "execution_count": 7,
   "id": "176f3d6b",
   "metadata": {},
   "outputs": [
    {
     "name": "stdout",
     "output_type": "stream",
     "text": [
      "라벨:  0\n"
     ]
    },
    {
     "data": {
      "image/png": "[encoded data removed]",
      "text/plain": [
       "<Figure size 432x288 with 1 Axes>"
      ]
     },
     "metadata": {
      "needs_background": "light"
     },
     "output_type": "display_data"
    }
   ],
   "source": [
    "plt.imshow(x_train[0])\n",
    "print('라벨: ', y_train[0])"
   ]
  },
  {
   "cell_type": "code",
   "execution_count": 8,
   "id": "4c8ca896",
   "metadata": {},
   "outputs": [
    {
     "name": "stdout",
     "output_type": "stream",
     "text": [
      "Model: \"sequential\"\n",
      "_________________________________________________________________\n",
      "Layer (type)                 Output Shape              Param #   \n",
      "=================================================================\n",
      "conv2d (Conv2D)              (None, 26, 26, 32)        896       \n",
      "_________________________________________________________________\n",
      "max_pooling2d (MaxPooling2D) (None, 13, 13, 32)        0         \n",
      "_________________________________________________________________\n",
      "conv2d_1 (Conv2D)            (None, 11, 11, 64)        18496     \n",
      "_________________________________________________________________\n",
      "max_pooling2d_1 (MaxPooling2 (None, 5, 5, 64)          0         \n",
      "_________________________________________________________________\n",
      "flatten (Flatten)            (None, 1600)              0         \n",
      "_________________________________________________________________\n",
      "dense (Dense)                (None, 64)                102464    \n",
      "_________________________________________________________________\n",
      "dense_1 (Dense)              (None, 3)                 195       \n",
      "=================================================================\n",
      "Total params: 122,051\n",
      "Trainable params: 122,051\n",
      "Non-trainable params: 0\n",
      "_________________________________________________________________\n"
     ]
    }
   ],
   "source": [
    "n_channel_1 = 32\n",
    "n_channel_2 = 64\n",
    "n_dense = 64\n",
    "n_train_epoch = 10\n",
    "\n",
    "model = keras.models.Sequential()\n",
    "model.add(keras.layers.Conv2D(n_channel_1, (3, 3), activation = 'relu', input_shape = (28, 28, 3)))\n",
    "model.add(keras.layers.MaxPool2D(2, 2))\n",
    "model.add(keras.layers.Conv2D(n_channel_2, (3, 3), activation = 'relu'))\n",
    "model.add(keras.layers.MaxPooling2D((2, 2)))\n",
    "model.add(keras.layers.Flatten())\n",
    "model.add(keras.layers.Dense(n_dense, activation = 'relu'))\n",
    "model.add(keras.layers.Dense(3, activation = 'softmax'))\n",
    "model.summary()"
   ]
  },
  {
   "cell_type": "code",
   "execution_count": 9,
   "id": "fe8b889d",
   "metadata": {},
   "outputs": [
    {
     "name": "stdout",
     "output_type": "stream",
     "text": [
      "Epoch 1/10\n",
      "141/141 [==============================] - 26s 4ms/step - loss: 0.3020 - accuracy: 0.9067\n",
      "Epoch 2/10\n",
      "141/141 [==============================] - 0s 3ms/step - loss: 0.0312 - accuracy: 0.9918\n",
      "Epoch 3/10\n",
      "141/141 [==============================] - 0s 3ms/step - loss: 0.0029 - accuracy: 1.0000\n",
      "Epoch 4/10\n",
      "141/141 [==============================] - 0s 3ms/step - loss: 9.3319e-04 - accuracy: 1.0000\n",
      "Epoch 5/10\n",
      "141/141 [==============================] - 0s 3ms/step - loss: 4.9610e-04 - accuracy: 1.0000\n",
      "Epoch 6/10\n",
      "141/141 [==============================] - 0s 3ms/step - loss: 2.8240e-04 - accuracy: 1.0000\n",
      "Epoch 7/10\n",
      "141/141 [==============================] - 0s 3ms/step - loss: 1.9151e-04 - accuracy: 1.0000\n",
      "Epoch 8/10\n",
      "141/141 [==============================] - 0s 3ms/step - loss: 1.4373e-04 - accuracy: 1.0000\n",
      "Epoch 9/10\n",
      "141/141 [==============================] - 0s 3ms/step - loss: 1.0170e-04 - accuracy: 1.0000\n",
      "Epoch 10/10\n",
      "141/141 [==============================] - 0s 3ms/step - loss: 8.0211e-05 - accuracy: 1.0000\n"
     ]
    },
    {
     "data": {
      "text/plain": [
       "<keras.callbacks.History at 0x7fef1ce14280>"
      ]
     },
     "execution_count": 9,
     "metadata": {},
     "output_type": "execute_result"
    }
   ],
   "source": [
    "model.compile(optimizer = 'adam',\n",
    "             loss = 'sparse_categorical_crossentropy',\n",
    "             metrics = ['accuracy'])\n",
    "\n",
    "model.fit(x_train_norm, y_train, epochs = n_train_epoch)"
   ]
  },
  {
   "cell_type": "code",
   "execution_count": 10,
   "id": "10dcb2ed",
   "metadata": {},
   "outputs": [
    {
     "name": "stdout",
     "output_type": "stream",
     "text": [
      "300  images to be resized.\n",
      "300  images resized.\n",
      "300  images to be resized.\n",
      "300  images resized.\n",
      "300  images to be resized.\n",
      "300  images resized.\n"
     ]
    }
   ],
   "source": [
    "image_dir_path = os.getenv(\"HOME\") + \"/aiffel/rock_scissor_paper/test/scissor\"\n",
    "resize_images(image_dir_path)\n",
    "\n",
    "image_dir_path = os.getenv(\"HOME\") + \"/aiffel/rock_scissor_paper/test/rock\"\n",
    "resize_images(image_dir_path)\n",
    "\n",
    "image_dir_path = os.getenv(\"HOME\") + \"/aiffel/rock_scissor_paper/test/paper\"\n",
    "resize_images(image_dir_path)"
   ]
  },
  {
   "cell_type": "code",
   "execution_count": 13,
   "id": "900b383b",
   "metadata": {},
   "outputs": [],
   "source": [
    "def load_test_data(img_path, number_of_data = 900):\n",
    "    img_size = 28\n",
    "    color = 3\n",
    "    \n",
    "    imgs = np.zeros(number_of_data * img_size * img_size * color, dtype = np.int32).reshape(number_of_data, img_size, img_size, color)\n",
    "    labels = np.zeros(number_of_data, dtype = np.int32)\n",
    "    \n",
    "    idx = 0\n",
    "    for file in glob.iglob(img_path + '/scissor/*.jpg'):\n",
    "        img = np.array(Image.open(file), dtype = np.int32)\n",
    "        imgs[idx,:,:,:] = img\n",
    "        labels[idx] = 0\n",
    "        idx = idx + 1\n",
    "    \n",
    "    for file in glob.iglob(img_path + '/rock/*.jpg'):\n",
    "        img = np.array(Image.open(file), dtype = np.int32)\n",
    "        imgs[idx,:,:,:] = img\n",
    "        labels[idx] = 1\n",
    "        idx = idx + 1\n",
    "        \n",
    "    for file in glob.iglob(img_path + '/paper/*.jpg'):\n",
    "        img = np.array(Image.open(file), dtype = np.int32)\n",
    "        imgs[idx,:,:,:] = img\n",
    "        labels[idx] = 2\n",
    "        idx = idx + 1\n",
    "        \n",
    "    print(\"테스트데이터(x_test)의 이미지 개수는\", idx, \"입니다.\")\n",
    "    return imgs, labels"
   ]
  },
  {
   "cell_type": "code",
   "execution_count": 14,
   "id": "b5c581a6",
   "metadata": {},
   "outputs": [
    {
     "name": "stdout",
     "output_type": "stream",
     "text": [
      "테스트데이터(x_test)의 이미지 개수는 900 입니다.\n",
      "x_test shape: (900, 28, 28, 3)\n",
      "y_test shape: (900,)\n"
     ]
    }
   ],
   "source": [
    "image_dir_path = os.getenv(\"HOME\") + \"/aiffel/rock_scissor_paper/test\"\n",
    "(x_test, y_test) = load_test_data(image_dir_path)\n",
    "x_test_norm = x_test / 255.0\n",
    "\n",
    "print(\"x_test shape: {}\".format(x_test.shape))\n",
    "print(\"y_test shape: {}\".format(y_test.shape))"
   ]
  },
  {
   "cell_type": "code",
   "execution_count": 15,
   "id": "9b14ba57",
   "metadata": {},
   "outputs": [
    {
     "name": "stdout",
     "output_type": "stream",
     "text": [
      "29/29 - 0s - loss: 7.9117 - accuracy: 0.1222\n",
      "test_loss: 7.911733627319336\n",
      "test_accuracy: 0.12222222238779068\n"
     ]
    }
   ],
   "source": [
    "test_loss, test_accuracy = model.evaluate(x_test_norm, y_test, verbose=2)\n",
    "print(\"test_loss: {}\".format(test_loss))\n",
    "print(\"test_accuracy: {}\".format(test_accuracy))"
   ]
  },
  {
   "cell_type": "markdown",
   "id": "d1d26cb1",
   "metadata": {},
   "source": [
    "#먼저 제대로 된 EP01을 제출하지 못해 많이 아쉽다. (아래 참조... 시행착오, 주저리주저리..)\n",
    " - 아이펠에 연동된 주피터 노트북을 이용해 90%이상 분석/추론 글 작성해 가며 디버깅 중,\n",
    " - 커널 연동된 로그인 시간 연장을 하지 못해, 작성 해놓은 프로젝트 모두가 날아감.\n",
    " - 이후 로컬에서 파이참+쥬피터노트북 연동하여 환경 구축 하였으나,\n",
    " - 파이참 / 윈도우10 환경 경로 설정 오류로 인해 3일간의 구축시간을 날려먹음.\n",
    " - 다시 아이펠 클라우드 환경 / 깃헙 연동을 통해 첫번째 프로젝트를 처음과 같은 퀄리티로 작성해보려 했으나,\n",
    " - 시간의 압박 + 멘탈의 붕괴로 인한 코드 만 디버깅 하여 제출 함.\n",
    " - ML , 환경 구축이 쉽지 않다라는 결론을 얻었고, 클라우드 환경 로그인 연장에 유의하며 다음 프로젝트 부터는\n",
    " - 제대로 된 분석 / 코딩을 해야 겠다."
   ]
  },
  {
   "cell_type": "code",
   "execution_count": null,
   "id": "219302dc",
   "metadata": {},
   "outputs": [],
   "source": []
  }
 ],
 "metadata": {
  "kernelspec": {
   "display_name": "Python 3 (ipykernel)",
   "language": "python",
   "name": "python3"
  },
  "language_info": {
   "codemirror_mode": {
    "name": "ipython",
    "version": 3
   },
   "file_extension": ".py",
   "mimetype": "text/x-python",
   "name": "python",
   "nbconvert_exporter": "python",
   "pygments_lexer": "ipython3",
   "version": "3.9.7"
  }
 },
 "nbformat": 4,
 "nbformat_minor": 5
}
