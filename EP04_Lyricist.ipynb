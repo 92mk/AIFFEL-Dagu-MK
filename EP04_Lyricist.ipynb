{
 "cells": [
  {
   "cell_type": "code",
   "execution_count": 1,
   "id": "3f9eebc5",
   "metadata": {},
   "outputs": [
    {
     "name": "stdout",
     "output_type": "stream",
     "text": [
      "['First Citizen:', 'Before we proceed any further, hear me speak.', '', 'All:', 'Speak, speak.', '', 'First Citizen:', 'You are all resolved rather to die than to famish?', '']\n"
     ]
    }
   ],
   "source": [
    "import os, re \n",
    "import numpy as np\n",
    "import tensorflow as tf\n",
    "\n",
    "# 파일을 읽기모드로 열고\n",
    "# 라인 단위로 끊어서 list 형태로 읽어옵니다.\n",
    "file_path = os.getenv('HOME') + '/aiffel/Exploration/EP04_Lyricist/data/shakespeare.txt'\n",
    "with open(file_path, \"r\") as f:\n",
    "    raw_corpus = f.read().splitlines()\n",
    "\n",
    "# 앞에서부터 10라인만 화면에 출력해 볼까요?\n",
    "print(raw_corpus[:9])"
   ]
  },
  {
   "cell_type": "code",
   "execution_count": 2,
   "id": "5eb10da4",
   "metadata": {},
   "outputs": [
    {
     "name": "stdout",
     "output_type": "stream",
     "text": [
      "Before we proceed any further, hear me speak.\n",
      "Speak, speak.\n",
      "You are all resolved rather to die than to famish?\n"
     ]
    }
   ],
   "source": [
    "for idx, sentence in enumerate(raw_corpus):\n",
    "    if len(sentence) == 0: continue   # 길이가 0인 문장은 건너뜁니다.\n",
    "    if sentence[-1] == \":\": continue  # 문장의 끝이 : 인 문장은 건너뜁니다.\n",
    "\n",
    "    if idx > 9: break   # 일단 문장 10개만 확인해 볼 겁니다.\n",
    "        \n",
    "    print(sentence)"
   ]
  },
  {
   "cell_type": "code",
   "execution_count": 3,
   "id": "76ba6c3c",
   "metadata": {},
   "outputs": [
    {
     "name": "stdout",
     "output_type": "stream",
     "text": [
      "<start> this is sample sentence . <end>\n"
     ]
    }
   ],
   "source": [
    "# 입력된 문장을\n",
    "#     1. 소문자로 바꾸고, 양쪽 공백을 지웁니다\n",
    "#     2. 특수문자 양쪽에 공백을 넣고\n",
    "#     3. 여러개의 공백은 하나의 공백으로 바꿉니다\n",
    "#     4. a-zA-Z?.!,¿가 아닌 모든 문자를 하나의 공백으로 바꿉니다\n",
    "#     5. 다시 양쪽 공백을 지웁니다\n",
    "#     6. 문장 시작에는 <start>, 끝에는 <end>를 추가합니다\n",
    "# 이 순서로 처리해주면 문제가 되는 상황을 방지할 수 있겠네요!\n",
    "def preprocess_sentence(sentence):\n",
    "    sentence = sentence.lower().strip() # 1\n",
    "    sentence = re.sub(r\"([?.!,¿])\", r\" \\1 \", sentence) # 2\n",
    "    sentence = re.sub(r'[\" \"]+', \" \", sentence) # 3\n",
    "    sentence = re.sub(r\"[^a-zA-Z?.!,¿]+\", \" \", sentence) # 4\n",
    "    sentence = sentence.strip() # 5\n",
    "    sentence = '<start> ' + sentence + ' <end>' # 6\n",
    "    return sentence\n",
    "\n",
    "# 이 문장이 어떻게 필터링되는지 확인해 보세요.\n",
    "print(preprocess_sentence(\"This @_is ;;;sample        sentence.\"))"
   ]
  },
  {
   "cell_type": "code",
   "execution_count": 4,
   "id": "7a052540",
   "metadata": {},
   "outputs": [
    {
     "data": {
      "text/plain": [
       "['<start> before we proceed any further , hear me speak . <end>',\n",
       " '<start> speak , speak . <end>',\n",
       " '<start> you are all resolved rather to die than to famish ? <end>',\n",
       " '<start> resolved . resolved . <end>',\n",
       " '<start> first , you know caius marcius is chief enemy to the people . <end>',\n",
       " '<start> we know t , we know t . <end>',\n",
       " '<start> let us kill him , and we ll have corn at our own price . <end>',\n",
       " '<start> is t a verdict ? <end>',\n",
       " '<start> no more talking on t let it be done away , away ! <end>',\n",
       " '<start> one word , good citizens . <end>']"
      ]
     },
     "execution_count": 4,
     "metadata": {},
     "output_type": "execute_result"
    }
   ],
   "source": [
    "# 여기에 정제된 문장을 모을겁니다\n",
    "corpus = []\n",
    "\n",
    "for sentence in raw_corpus:\n",
    "    # 우리가 원하지 않는 문장은 건너뜁니다\n",
    "    if len(sentence) == 0: continue\n",
    "    if sentence[-1] == \":\": continue\n",
    "    \n",
    "    # 정제를 하고 담아주세요\n",
    "    preprocessed_sentence = preprocess_sentence(sentence)\n",
    "    corpus.append(preprocessed_sentence)\n",
    "        \n",
    "# 정제된 결과를 10개만 확인해보죠\n",
    "corpus[:10]"
   ]
  },
  {
   "cell_type": "code",
   "execution_count": 5,
   "id": "b93aec21",
   "metadata": {},
   "outputs": [
    {
     "name": "stdout",
     "output_type": "stream",
     "text": [
      "[[   2  143   40 ...    0    0    0]\n",
      " [   2  110    4 ...    0    0    0]\n",
      " [   2   11   50 ...    0    0    0]\n",
      " ...\n",
      " [   2  149 4553 ...    0    0    0]\n",
      " [   2   34   71 ...    0    0    0]\n",
      " [   2  945   34 ...    0    0    0]] <keras_preprocessing.text.Tokenizer object at 0x7fb6fb991790>\n"
     ]
    }
   ],
   "source": [
    "# 토큰화 할 때 텐서플로우의 Tokenizer와 pad_sequences를 사용합니다\n",
    "# 더 잘 알기 위해 아래 문서들을 참고하면 좋습니다\n",
    "# https://www.tensorflow.org/api_docs/python/tf/keras/preprocessing/text/Tokenizer\n",
    "# https://www.tensorflow.org/api_docs/python/tf/keras/preprocessing/sequence/pad_sequences\n",
    "def tokenize(corpus):\n",
    "    # 7000단어를 기억할 수 있는 tokenizer를 만들겁니다\n",
    "    # 우리는 이미 문장을 정제했으니 filters가 필요없어요\n",
    "    # 7000단어에 포함되지 못한 단어는 '<unk>'로 바꿀거에요\n",
    "    tokenizer = tf.keras.preprocessing.text.Tokenizer(\n",
    "        num_words=7000, \n",
    "        filters=' ',\n",
    "        oov_token=\"<unk>\"\n",
    "    )\n",
    "    # corpus를 이용해 tokenizer 내부의 단어장을 완성합니다\n",
    "    tokenizer.fit_on_texts(corpus)\n",
    "    # 준비한 tokenizer를 이용해 corpus를 Tensor로 변환합니다\n",
    "    tensor = tokenizer.texts_to_sequences(corpus)   \n",
    "    # 입력 데이터의 시퀀스 길이를 일정하게 맞춰줍니다\n",
    "    # 만약 시퀀스가 짧다면 문장 뒤에 패딩을 붙여 길이를 맞춰줍니다.\n",
    "    # 문장 앞에 패딩을 붙여 길이를 맞추고 싶다면 padding='pre'를 사용합니다\n",
    "    tensor = tf.keras.preprocessing.sequence.pad_sequences(tensor, padding='post')  \n",
    "    \n",
    "    print(tensor,tokenizer)\n",
    "    return tensor, tokenizer\n",
    "\n",
    "tensor, tokenizer = tokenize(corpus)"
   ]
  },
  {
   "cell_type": "code",
   "execution_count": 6,
   "id": "de38d4c5",
   "metadata": {},
   "outputs": [
    {
     "name": "stdout",
     "output_type": "stream",
     "text": [
      "[[   2  143   40  933  140  591    4  124   24  110]\n",
      " [   2  110    4  110    5    3    0    0    0    0]\n",
      " [   2   11   50   43 1201  316    9  201   74    9]]\n"
     ]
    }
   ],
   "source": [
    "print(tensor[:3, :10])"
   ]
  },
  {
   "cell_type": "code",
   "execution_count": 7,
   "id": "9f75b3f9",
   "metadata": {},
   "outputs": [
    {
     "name": "stdout",
     "output_type": "stream",
     "text": [
      "1 : <unk>\n",
      "2 : <start>\n",
      "3 : <end>\n",
      "4 : ,\n",
      "5 : .\n",
      "6 : the\n",
      "7 : and\n",
      "8 : i\n",
      "9 : to\n",
      "10 : of\n"
     ]
    }
   ],
   "source": [
    "for idx in tokenizer.index_word:\n",
    "    print(idx, \":\", tokenizer.index_word[idx])\n",
    "\n",
    "    if idx >= 10: break"
   ]
  },
  {
   "cell_type": "code",
   "execution_count": 8,
   "id": "96e974cb",
   "metadata": {},
   "outputs": [
    {
     "name": "stdout",
     "output_type": "stream",
     "text": [
      "[  2 143  40 933 140 591   4 124  24 110   5   3   0   0   0   0   0   0\n",
      "   0   0]\n",
      "[143  40 933 140 591   4 124  24 110   5   3   0   0   0   0   0   0   0\n",
      "   0   0]\n"
     ]
    }
   ],
   "source": [
    "# tensor에서 마지막 토큰을 잘라내서 소스 문장을 생성합니다\n",
    "# 마지막 토큰은 <end>가 아니라 <pad>일 가능성이 높습니다.\n",
    "src_input = tensor[:, :-1]  \n",
    "# tensor에서 <start>를 잘라내서 타겟 문장을 생성합니다.\n",
    "tgt_input = tensor[:, 1:]    \n",
    "\n",
    "print(src_input[0])\n",
    "print(tgt_input[0])"
   ]
  },
  {
   "cell_type": "code",
   "execution_count": 9,
   "id": "c6ff220a",
   "metadata": {},
   "outputs": [
    {
     "data": {
      "text/plain": [
       "<BatchDataset shapes: ((256, 20), (256, 20)), types: (tf.int32, tf.int32)>"
      ]
     },
     "execution_count": 9,
     "metadata": {},
     "output_type": "execute_result"
    }
   ],
   "source": [
    "BUFFER_SIZE = len(src_input)\n",
    "BATCH_SIZE = 256\n",
    "steps_per_epoch = len(src_input) // BATCH_SIZE\n",
    "\n",
    " # tokenizer가 구축한 단어사전 내 7000개와, 여기 포함되지 않은 0:<pad>를 포함하여 7001개\n",
    "VOCAB_SIZE = tokenizer.num_words + 1   \n",
    "\n",
    "# 준비한 데이터 소스로부터 데이터셋을 만듭니다\n",
    "# 데이터셋에 대해서는 아래 문서를 참고하세요\n",
    "# 자세히 알아둘수록 도움이 많이 되는 중요한 문서입니다\n",
    "# https://www.tensorflow.org/api_docs/python/tf/data/Dataset\n",
    "dataset = tf.data.Dataset.from_tensor_slices((src_input, tgt_input))\n",
    "dataset = dataset.shuffle(BUFFER_SIZE)\n",
    "dataset = dataset.batch(BATCH_SIZE, drop_remainder=True)\n",
    "dataset"
   ]
  },
  {
   "cell_type": "code",
   "execution_count": 10,
   "id": "d01faa65",
   "metadata": {},
   "outputs": [],
   "source": [
    "class TextGenerator(tf.keras.Model):\n",
    "    def __init__(self, vocab_size, embedding_size, hidden_size):\n",
    "        super().__init__()\n",
    "        \n",
    "        self.embedding = tf.keras.layers.Embedding(vocab_size, embedding_size)\n",
    "        self.rnn_1 = tf.keras.layers.LSTM(hidden_size, return_sequences=True)\n",
    "        self.rnn_2 = tf.keras.layers.LSTM(hidden_size, return_sequences=True)\n",
    "        self.linear = tf.keras.layers.Dense(vocab_size)\n",
    "        \n",
    "    def call(self, x):\n",
    "        out = self.embedding(x)\n",
    "        out = self.rnn_1(out)\n",
    "        out = self.rnn_2(out)\n",
    "        out = self.linear(out)\n",
    "        \n",
    "        return out\n",
    "    \n",
    "embedding_size = 256\n",
    "hidden_size = 1024\n",
    "model = TextGenerator(tokenizer.num_words + 1, embedding_size , hidden_size)"
   ]
  },
  {
   "cell_type": "code",
   "execution_count": 11,
   "id": "6631f8b3",
   "metadata": {},
   "outputs": [
    {
     "data": {
      "text/plain": [
       "<tf.Tensor: shape=(256, 20, 7001), dtype=float32, numpy=\n",
       "array([[[ 4.77482070e-04, -2.10584913e-04, -9.55303331e-05, ...,\n",
       "          3.55849537e-04, -1.23078862e-04,  2.41721791e-05],\n",
       "        [ 9.51183669e-04, -4.16775074e-05, -1.13695081e-04, ...,\n",
       "          3.40613857e-04, -1.18819044e-04,  1.53754227e-04],\n",
       "        [ 1.42737443e-03,  4.61808049e-05, -1.92286359e-04, ...,\n",
       "          2.36631764e-04, -2.23873110e-04,  1.81459531e-04],\n",
       "        ...,\n",
       "        [ 9.93991503e-04,  3.54156201e-03, -1.22124830e-03, ...,\n",
       "         -3.82851786e-03, -1.40048552e-03,  1.57941808e-03],\n",
       "        [ 1.24973757e-03,  3.54679325e-03, -1.22394122e-03, ...,\n",
       "         -4.08352772e-03, -1.59338838e-03,  1.53049745e-03],\n",
       "        [ 1.47684466e-03,  3.53631214e-03, -1.20703469e-03, ...,\n",
       "         -4.29585669e-03, -1.77591748e-03,  1.48026366e-03]],\n",
       "\n",
       "       [[ 4.77482070e-04, -2.10584913e-04, -9.55303331e-05, ...,\n",
       "          3.55849537e-04, -1.23078862e-04,  2.41721791e-05],\n",
       "        [ 7.70814018e-04, -2.60648871e-04, -1.16497555e-04, ...,\n",
       "          4.72967862e-04, -1.70480940e-04, -2.36586693e-05],\n",
       "        [ 7.63413613e-04, -3.17345461e-04,  9.58285964e-05, ...,\n",
       "          5.03608841e-04,  4.65346744e-07,  1.00847785e-04],\n",
       "        ...,\n",
       "        [ 1.43686906e-04,  2.56828777e-03, -1.39710400e-03, ...,\n",
       "         -1.89587765e-03, -1.11088436e-03,  8.58165789e-04],\n",
       "        [ 4.81621304e-04,  2.81216484e-03, -1.59174087e-03, ...,\n",
       "         -2.36289715e-03, -1.19317241e-03,  9.06370988e-04],\n",
       "        [ 8.07642995e-04,  2.98123737e-03, -1.72420219e-03, ...,\n",
       "         -2.79088272e-03, -1.29799708e-03,  9.47943656e-04]],\n",
       "\n",
       "       [[ 4.77482070e-04, -2.10584913e-04, -9.55303331e-05, ...,\n",
       "          3.55849537e-04, -1.23078862e-04,  2.41721791e-05],\n",
       "        [ 7.84489326e-04, -4.03940241e-04, -5.34963561e-04, ...,\n",
       "          6.30503055e-04,  5.63114627e-05,  3.28338239e-04],\n",
       "        [ 9.81374877e-04, -5.33912680e-04, -7.07626925e-04, ...,\n",
       "          8.30680423e-04,  5.38093736e-04,  5.21834241e-04],\n",
       "        ...,\n",
       "        [-2.34409945e-05,  2.29946547e-03, -1.65352528e-03, ...,\n",
       "         -3.03897052e-03, -9.78467637e-04,  1.98296591e-04],\n",
       "        [ 2.45865842e-04,  2.57820287e-03, -1.72618043e-03, ...,\n",
       "         -3.38364951e-03, -1.14965357e-03,  3.67616827e-04],\n",
       "        [ 5.24664007e-04,  2.78154435e-03, -1.76014006e-03, ...,\n",
       "         -3.69449891e-03, -1.32296607e-03,  5.20887319e-04]],\n",
       "\n",
       "       ...,\n",
       "\n",
       "       [[ 4.77482070e-04, -2.10584913e-04, -9.55303331e-05, ...,\n",
       "          3.55849537e-04, -1.23078862e-04,  2.41721791e-05],\n",
       "        [ 3.04159650e-04, -2.17262190e-04, -1.24234910e-04, ...,\n",
       "          4.60678159e-04, -8.22253060e-06, -3.17630853e-04],\n",
       "        [ 1.80385119e-04,  7.72093190e-05, -3.75374133e-04, ...,\n",
       "          3.67578119e-04,  7.76486777e-05, -2.08034922e-04],\n",
       "        ...,\n",
       "        [-2.94644415e-04,  2.96788313e-03, -2.16655456e-03, ...,\n",
       "         -3.20044137e-03, -7.85276759e-04,  1.70160147e-05],\n",
       "        [ 4.55380614e-05,  3.24836886e-03, -2.24844948e-03, ...,\n",
       "         -3.47664626e-03, -1.10078719e-03,  2.23216208e-04],\n",
       "        [ 3.81652091e-04,  3.43326270e-03, -2.27262126e-03, ...,\n",
       "         -3.73303355e-03, -1.38601067e-03,  4.03928017e-04]],\n",
       "\n",
       "       [[ 4.77482070e-04, -2.10584913e-04, -9.55303331e-05, ...,\n",
       "          3.55849537e-04, -1.23078862e-04,  2.41721791e-05],\n",
       "        [ 7.37857947e-04, -2.73830316e-04, -5.81278146e-05, ...,\n",
       "          5.42083697e-04,  5.80807282e-05,  4.81621391e-05],\n",
       "        [ 9.39476478e-04, -3.47953930e-04, -1.92305451e-04, ...,\n",
       "          6.95875846e-04,  2.68540432e-04, -2.34196094e-04],\n",
       "        ...,\n",
       "        [ 6.14301884e-04,  2.39651417e-03, -2.16341019e-03, ...,\n",
       "         -2.98583834e-03, -1.31713902e-03,  7.35143432e-04],\n",
       "        [ 8.80014966e-04,  2.63991114e-03, -2.22715386e-03, ...,\n",
       "         -3.37803084e-03, -1.49070902e-03,  7.99657311e-04],\n",
       "        [ 1.13073923e-03,  2.82312348e-03, -2.23052595e-03, ...,\n",
       "         -3.71605298e-03, -1.66121812e-03,  8.57646519e-04]],\n",
       "\n",
       "       [[ 4.77482070e-04, -2.10584913e-04, -9.55303331e-05, ...,\n",
       "          3.55849537e-04, -1.23078862e-04,  2.41721791e-05],\n",
       "        [ 3.18868697e-04, -2.90015334e-04, -4.61978198e-04, ...,\n",
       "          4.56836337e-04, -3.26036388e-04, -6.48731793e-06],\n",
       "        [ 2.86263152e-04, -7.94173509e-04, -6.93425070e-04, ...,\n",
       "          4.10650013e-04, -1.21666955e-04,  8.09975973e-05],\n",
       "        ...,\n",
       "        [-3.31667252e-04,  2.45069852e-03, -1.60427578e-03, ...,\n",
       "         -3.04965582e-03, -1.74102164e-03,  7.96320091e-04],\n",
       "        [ 5.24133175e-05,  2.68576667e-03, -1.67516095e-03, ...,\n",
       "         -3.38924467e-03, -1.83366169e-03,  8.88212293e-04],\n",
       "        [ 4.16669965e-04,  2.85999733e-03, -1.70529529e-03, ...,\n",
       "         -3.69084650e-03, -1.93093088e-03,  9.64908628e-04]]],\n",
       "      dtype=float32)>"
      ]
     },
     "execution_count": 11,
     "metadata": {},
     "output_type": "execute_result"
    }
   ],
   "source": [
    "# 데이터셋에서 데이터 한 배치만 불러오는 방법입니다.\n",
    "# 지금은 동작 원리에 너무 빠져들지 마세요~\n",
    "for src_sample, tgt_sample in dataset.take(1): break\n",
    "\n",
    "# 한 배치만 불러온 데이터를 모델에 넣어봅니다\n",
    "model(src_sample)"
   ]
  },
  {
   "cell_type": "code",
   "execution_count": 12,
   "id": "05db9790",
   "metadata": {},
   "outputs": [
    {
     "name": "stdout",
     "output_type": "stream",
     "text": [
      "Model: \"text_generator\"\n",
      "_________________________________________________________________\n",
      "Layer (type)                 Output Shape              Param #   \n",
      "=================================================================\n",
      "embedding (Embedding)        multiple                  1792256   \n",
      "_________________________________________________________________\n",
      "lstm (LSTM)                  multiple                  5246976   \n",
      "_________________________________________________________________\n",
      "lstm_1 (LSTM)                multiple                  8392704   \n",
      "_________________________________________________________________\n",
      "dense (Dense)                multiple                  7176025   \n",
      "=================================================================\n",
      "Total params: 22,607,961\n",
      "Trainable params: 22,607,961\n",
      "Non-trainable params: 0\n",
      "_________________________________________________________________\n"
     ]
    }
   ],
   "source": [
    "model.summary()"
   ]
  },
  {
   "cell_type": "code",
   "execution_count": 13,
   "id": "86b47436",
   "metadata": {},
   "outputs": [
    {
     "name": "stdout",
     "output_type": "stream",
     "text": [
      "Epoch 1/30\n",
      "93/93 [==============================] - 22s 212ms/step - loss: 3.4760\n",
      "Epoch 2/30\n",
      "93/93 [==============================] - 19s 205ms/step - loss: 2.8069\n",
      "Epoch 3/30\n",
      "93/93 [==============================] - 18s 195ms/step - loss: 2.7132\n",
      "Epoch 4/30\n",
      "93/93 [==============================] - 18s 196ms/step - loss: 2.6188\n",
      "Epoch 5/30\n",
      "93/93 [==============================] - 19s 202ms/step - loss: 2.5510\n",
      "Epoch 6/30\n",
      "93/93 [==============================] - 19s 203ms/step - loss: 2.4989\n",
      "Epoch 7/30\n",
      "93/93 [==============================] - 19s 202ms/step - loss: 2.4478\n",
      "Epoch 8/30\n",
      "93/93 [==============================] - 19s 200ms/step - loss: 2.3974\n",
      "Epoch 9/30\n",
      "93/93 [==============================] - 19s 201ms/step - loss: 2.3513\n",
      "Epoch 10/30\n",
      "93/93 [==============================] - 19s 202ms/step - loss: 2.3066\n",
      "Epoch 11/30\n",
      "93/93 [==============================] - 19s 203ms/step - loss: 2.2627\n",
      "Epoch 12/30\n",
      "93/93 [==============================] - 19s 202ms/step - loss: 2.2196\n",
      "Epoch 13/30\n",
      "93/93 [==============================] - 19s 201ms/step - loss: 2.1798\n",
      "Epoch 14/30\n",
      "93/93 [==============================] - 19s 201ms/step - loss: 2.1393\n",
      "Epoch 15/30\n",
      "93/93 [==============================] - 19s 201ms/step - loss: 2.0990\n",
      "Epoch 16/30\n",
      "93/93 [==============================] - 19s 201ms/step - loss: 2.0597\n",
      "Epoch 17/30\n",
      "93/93 [==============================] - 19s 200ms/step - loss: 2.0192\n",
      "Epoch 18/30\n",
      "93/93 [==============================] - 19s 200ms/step - loss: 1.9814\n",
      "Epoch 19/30\n",
      "93/93 [==============================] - 19s 201ms/step - loss: 1.9407\n",
      "Epoch 20/30\n",
      "93/93 [==============================] - 19s 201ms/step - loss: 1.9013\n",
      "Epoch 21/30\n",
      "93/93 [==============================] - 19s 201ms/step - loss: 1.8623\n",
      "Epoch 22/30\n",
      "93/93 [==============================] - 19s 201ms/step - loss: 1.8227\n",
      "Epoch 23/30\n",
      "93/93 [==============================] - 19s 201ms/step - loss: 1.7837\n",
      "Epoch 24/30\n",
      "93/93 [==============================] - 19s 201ms/step - loss: 1.7443\n",
      "Epoch 25/30\n",
      "93/93 [==============================] - 19s 201ms/step - loss: 1.7050\n",
      "Epoch 26/30\n",
      "93/93 [==============================] - 19s 201ms/step - loss: 1.6672\n",
      "Epoch 27/30\n",
      "93/93 [==============================] - 19s 201ms/step - loss: 1.6304\n",
      "Epoch 28/30\n",
      "93/93 [==============================] - 19s 201ms/step - loss: 1.5914\n",
      "Epoch 29/30\n",
      "93/93 [==============================] - 19s 201ms/step - loss: 1.5533\n",
      "Epoch 30/30\n",
      "93/93 [==============================] - 19s 202ms/step - loss: 1.5126\n"
     ]
    },
    {
     "data": {
      "text/plain": [
       "<keras.callbacks.History at 0x7fb6f901e340>"
      ]
     },
     "execution_count": 13,
     "metadata": {},
     "output_type": "execute_result"
    }
   ],
   "source": [
    "# optimizer와 loss등은 차차 배웁니다\n",
    "# 혹시 미리 알고 싶다면 아래 문서를 참고하세요\n",
    "# https://www.tensorflow.org/api_docs/python/tf/keras/optimizers\n",
    "# https://www.tensorflow.org/api_docs/python/tf/keras/losses\n",
    "# 양이 상당히 많은 편이니 지금 보는 것은 추천하지 않습니다\n",
    "optimizer = tf.keras.optimizers.Adam()\n",
    "loss = tf.keras.losses.SparseCategoricalCrossentropy(\n",
    "    from_logits=True,\n",
    "    reduction='none'\n",
    ")\n",
    "\n",
    "model.compile(loss=loss, optimizer=optimizer)\n",
    "model.fit(dataset, epochs=30)"
   ]
  },
  {
   "cell_type": "code",
   "execution_count": 14,
   "id": "dfebd25b",
   "metadata": {},
   "outputs": [],
   "source": [
    "def generate_text(model, tokenizer, init_sentence=\"<start>\", max_len=20):\n",
    "    # 테스트를 위해서 입력받은 init_sentence도 텐서로 변환합니다\n",
    "    test_input = tokenizer.texts_to_sequences([init_sentence])\n",
    "    test_tensor = tf.convert_to_tensor(test_input, dtype=tf.int64)\n",
    "    end_token = tokenizer.word_index[\"<end>\"]\n",
    "\n",
    "    # 단어 하나씩 예측해 문장을 만듭니다\n",
    "    #    1. 입력받은 문장의 텐서를 입력합니다\n",
    "    #    2. 예측된 값 중 가장 높은 확률인 word index를 뽑아냅니다\n",
    "    #    3. 2에서 예측된 word index를 문장 뒤에 붙입니다\n",
    "    #    4. 모델이 <end>를 예측했거나, max_len에 도달했다면 문장 생성을 마칩니다\n",
    "    while True:\n",
    "        # 1\n",
    "        predict = model(test_tensor) \n",
    "        # 2\n",
    "        predict_word = tf.argmax(tf.nn.softmax(predict, axis=-1), axis=-1)[:, -1] \n",
    "        # 3 \n",
    "        test_tensor = tf.concat([test_tensor, tf.expand_dims(predict_word, axis=0)], axis=-1)\n",
    "        # 4\n",
    "        if predict_word.numpy()[0] == end_token: break\n",
    "        if test_tensor.shape[1] >= max_len: break\n",
    "\n",
    "    generated = \"\"\n",
    "    # tokenizer를 이용해 word index를 단어로 하나씩 변환합니다 \n",
    "    for word_index in test_tensor[0].numpy():\n",
    "        generated += tokenizer.index_word[word_index] + \" \"\n",
    "\n",
    "    return generated"
   ]
  },
  {
   "cell_type": "code",
   "execution_count": 15,
   "id": "67b0a375",
   "metadata": {},
   "outputs": [
    {
     "data": {
      "text/plain": [
       "'<start> he is a kind of history . <end> '"
      ]
     },
     "execution_count": 15,
     "metadata": {},
     "output_type": "execute_result"
    }
   ],
   "source": [
    "generate_text(model, tokenizer, init_sentence=\"<start> he\")"
   ]
  },
  {
   "cell_type": "code",
   "execution_count": 22,
   "id": "b10eadee",
   "metadata": {},
   "outputs": [
    {
     "name": "stdout",
     "output_type": "stream",
     "text": [
      "데이터 크기: 0\n",
      "Examples:\n",
      " []\n"
     ]
    }
   ],
   "source": [
    "import glob\n",
    "import os\n",
    "\n",
    "txt_file_path = os.getenv('HOME')+'/aiffel/lyricist/data/lyrics/*'\n",
    "\n",
    "txt_list = glob.glob(txt_file_path)\n",
    "\n",
    "raw_corpus = []\n",
    "\n",
    "# 여러개의 txt 파일을 모두 읽어서 raw_corpus 에 담습니다.\n",
    "for txt_file in txt_list:\n",
    "    with open(txt_file, \"r\") as f:\n",
    "        raw = f.read().splitlines()\n",
    "        raw_corpus.extend(raw)\n",
    "\n",
    "print(\"데이터 크기:\", len(raw_corpus))\n",
    "print(\"Examples:\\n\", raw_corpus[:3])"
   ]
  },
  {
   "cell_type": "code",
   "execution_count": 23,
   "id": "1f093b5d",
   "metadata": {},
   "outputs": [
    {
     "name": "stdout",
     "output_type": "stream",
     "text": [
      "Source Train: (19212, 20)\n",
      "Target Train: (19212, 20)\n"
     ]
    }
   ],
   "source": [
    "from sklearn.model_selection import train_test_split\n",
    "\n",
    "src_input = tensor[:, :-1]\n",
    "tgt_input = tensor[:, 1:]  \n",
    "\n",
    "enc_train, enc_val, dec_train, dec_val = train_test_split(src_input, tgt_input, test_size = 0.2, random_state = 2)\n",
    "enc_val_train, enc_val_val, dec_val_train, dec_val_val = train_test_split(enc_train, dec_train, test_size = 0.125 , random_state = 2) \n",
    "print(\"Source Train:\", enc_train.shape)\n",
    "print(\"Target Train:\", dec_train.shape)"
   ]
  },
  {
   "cell_type": "code",
   "execution_count": 18,
   "id": "eaace624",
   "metadata": {},
   "outputs": [
    {
     "data": {
      "text/plain": [
       "<BatchDataset shapes: ((128, 20), (128, 20)), types: (tf.int32, tf.int32)>"
      ]
     },
     "execution_count": 18,
     "metadata": {},
     "output_type": "execute_result"
    }
   ],
   "source": [
    "BUFFER_SIZE = len(enc_val_train) #텐서의 1차원, 전체 문장의 개수\n",
    "BATCH_SIZE = 128        #문장의 개수\n",
    "steps_per_epoch = BUFFER_SIZE // BATCH_SIZE\n",
    "\n",
    "# tokenizer가 구축한 단어사전 내 12000개 + 0:<pad>를 포함\n",
    "VOCAB_SIZE = tokenizer.num_words + 1\n",
    "\n",
    "dataset = tf.data.Dataset.from_tensor_slices((enc_train, dec_train))\n",
    "dataset = tf.data.Dataset.from_tensor_slices((enc_val_train, dec_val_train))\n",
    "dataset = dataset.shuffle(BUFFER_SIZE)\n",
    "dataset = dataset.batch(BATCH_SIZE, drop_remainder=True)\n",
    "dataset"
   ]
  },
  {
   "cell_type": "code",
   "execution_count": 19,
   "id": "1f3f3a21",
   "metadata": {},
   "outputs": [],
   "source": [
    "optimizer = tf.keras.optimizers.Adam()\n",
    "# optimizer = tf.keras.optimizers.SGD()\n",
    "loss = tf.keras.losses.SparseCategoricalCrossentropy(\n",
    "    from_logits=True, reduction='none')\n",
    "model.compile(loss=loss, optimizer=optimizer)"
   ]
  },
  {
   "cell_type": "code",
   "execution_count": 20,
   "id": "e164950c",
   "metadata": {},
   "outputs": [
    {
     "data": {
      "text/plain": [
       "<tf.Tensor: shape=(128, 20, 7001), dtype=float32, numpy=\n",
       "array([[[ 3.16057267e-04, -3.19568819e-04, -4.23435471e-04, ...,\n",
       "         -2.92282202e-04, -3.31569609e-04,  6.44525047e-04],\n",
       "        [ 9.61234269e-04, -7.81946525e-04, -7.60621857e-04, ...,\n",
       "         -7.88335921e-04, -6.59239187e-04,  9.60806850e-04],\n",
       "        [ 1.53193891e-03, -1.46221009e-03, -1.04305369e-03, ...,\n",
       "         -1.58421078e-03, -1.13028719e-03,  1.27787876e-03],\n",
       "        ...,\n",
       "        [ 6.77485066e-03, -2.49075145e-03, -2.47174548e-03, ...,\n",
       "          4.75962926e-03, -4.50167386e-03,  1.15846191e-03],\n",
       "        [ 7.18138320e-03, -2.63586338e-03, -2.30691303e-03, ...,\n",
       "          5.01714461e-03, -4.43852413e-03,  1.28260651e-03],\n",
       "        [ 7.51640880e-03, -2.77075265e-03, -2.11559515e-03, ...,\n",
       "          5.23929438e-03, -4.36331378e-03,  1.41401100e-03]],\n",
       "\n",
       "       [[ 3.16057267e-04, -3.19568819e-04, -4.23435471e-04, ...,\n",
       "         -2.92282202e-04, -3.31569609e-04,  6.44525047e-04],\n",
       "        [ 5.36055246e-04,  5.05686803e-05, -4.78074253e-05, ...,\n",
       "         -5.95546211e-04, -4.17349220e-04,  1.42104318e-03],\n",
       "        [ 1.34110299e-03,  8.63929381e-05, -2.45225907e-04, ...,\n",
       "         -8.13825172e-04, -4.32828791e-04,  1.97027810e-03],\n",
       "        ...,\n",
       "        [ 5.52045507e-03, -2.04176479e-03, -2.13430403e-03, ...,\n",
       "          3.27542168e-03, -3.18998308e-03,  2.71904282e-04],\n",
       "        [ 6.10981602e-03, -2.17719143e-03, -2.18443386e-03, ...,\n",
       "          3.77632584e-03, -3.37407365e-03,  5.71293640e-04],\n",
       "        [ 6.63191592e-03, -2.30389670e-03, -2.15110974e-03, ...,\n",
       "          4.19960730e-03, -3.49619123e-03,  8.58488318e-04]],\n",
       "\n",
       "       [[ 3.16057267e-04, -3.19568819e-04, -4.23435471e-04, ...,\n",
       "         -2.92282202e-04, -3.31569609e-04,  6.44525047e-04],\n",
       "        [ 6.81351346e-04,  6.56196607e-06, -7.43141514e-04, ...,\n",
       "          1.04924395e-04, -3.37089848e-04,  6.52857532e-04],\n",
       "        [ 3.55530588e-04, -5.70246368e-04, -1.68771530e-03, ...,\n",
       "          3.71998263e-04, -1.01193204e-04,  8.22458940e-04],\n",
       "        ...,\n",
       "        [ 4.40062210e-03, -2.58522388e-03, -3.34165362e-03, ...,\n",
       "          3.70034366e-03, -2.32589105e-03, -3.57752724e-04],\n",
       "        [ 5.06486790e-03, -2.64369068e-03, -3.31653608e-03, ...,\n",
       "          4.15102718e-03, -2.72923103e-03, -8.87106289e-05],\n",
       "        [ 5.67479478e-03, -2.69107497e-03, -3.19700246e-03, ...,\n",
       "          4.52791713e-03, -3.01464298e-03,  1.95879649e-04]],\n",
       "\n",
       "       ...,\n",
       "\n",
       "       [[ 3.16057267e-04, -3.19568819e-04, -4.23435471e-04, ...,\n",
       "         -2.92282202e-04, -3.31569609e-04,  6.44525047e-04],\n",
       "        [ 4.23585792e-04, -8.62195506e-04, -3.97733354e-04, ...,\n",
       "         -8.73112804e-05, -2.32550316e-04,  1.54927745e-03],\n",
       "        [ 1.28603540e-04, -9.90925240e-04, -4.87517711e-04, ...,\n",
       "          3.99441255e-04, -2.02820884e-04,  2.14317511e-03],\n",
       "        ...,\n",
       "        [ 2.54431996e-03, -6.77874079e-04, -2.24326155e-03, ...,\n",
       "          2.15918454e-03, -1.96427736e-03,  1.53087813e-03],\n",
       "        [ 3.43831582e-03, -9.71665897e-04, -2.33341753e-03, ...,\n",
       "          2.88476609e-03, -2.40325183e-03,  1.59040838e-03],\n",
       "        [ 4.28471202e-03, -1.23753794e-03, -2.32172455e-03, ...,\n",
       "          3.51345399e-03, -2.72835791e-03,  1.67755620e-03]],\n",
       "\n",
       "       [[ 3.16057267e-04, -3.19568819e-04, -4.23435471e-04, ...,\n",
       "         -2.92282202e-04, -3.31569609e-04,  6.44525047e-04],\n",
       "        [ 7.99447589e-04, -4.01967816e-04, -7.51781859e-04, ...,\n",
       "         -5.00883209e-04, -1.71834676e-04,  1.09000667e-03],\n",
       "        [ 1.16055144e-03, -8.03715608e-04, -1.16154994e-03, ...,\n",
       "         -2.89478339e-04, -2.20756832e-04,  1.10150594e-03],\n",
       "        ...,\n",
       "        [ 1.09476922e-03, -1.17978919e-03, -2.11541704e-03, ...,\n",
       "          3.94165842e-03, -2.09667324e-03,  1.14762119e-03],\n",
       "        [ 2.14913185e-03, -1.39811274e-03, -2.20060279e-03, ...,\n",
       "          4.42527048e-03, -2.46599666e-03,  1.35975517e-03],\n",
       "        [ 3.12653650e-03, -1.60647545e-03, -2.18547741e-03, ...,\n",
       "          4.81559895e-03, -2.73197959e-03,  1.55761640e-03]],\n",
       "\n",
       "       [[ 3.16057267e-04, -3.19568819e-04, -4.23435471e-04, ...,\n",
       "         -2.92282202e-04, -3.31569609e-04,  6.44525047e-04],\n",
       "        [ 5.36055246e-04,  5.05686803e-05, -4.78074253e-05, ...,\n",
       "         -5.95546211e-04, -4.17349220e-04,  1.42104318e-03],\n",
       "        [ 7.23075646e-04,  1.05426858e-04,  8.04526208e-04, ...,\n",
       "         -2.62865069e-04, -2.83253554e-04,  1.04736676e-03],\n",
       "        ...,\n",
       "        [ 1.52273176e-04, -1.69822713e-03, -2.70965579e-03, ...,\n",
       "          5.85662026e-04, -7.55712274e-04, -1.16283627e-04],\n",
       "        [ 1.14705192e-03, -1.94250164e-03, -3.17736808e-03, ...,\n",
       "          1.44910684e-03, -1.41730520e-03, -5.64920556e-05],\n",
       "        [ 2.18978035e-03, -2.14259024e-03, -3.45120020e-03, ...,\n",
       "          2.24559079e-03, -1.95103406e-03,  7.36732327e-05]]],\n",
       "      dtype=float32)>"
      ]
     },
     "execution_count": 20,
     "metadata": {},
     "output_type": "execute_result"
    }
   ],
   "source": [
    "class TextGenerator(tf.keras.Model):\n",
    "    def __init__(self, vocab_size, embedding_size, hidden_size):\n",
    "        super().__init__()\n",
    "        \n",
    "        self.embedding = tf.keras.layers.Embedding(vocab_size, embedding_size)\n",
    "        self.rnn_1 = tf.keras.layers.LSTM(hidden_size, return_sequences=True)\n",
    "        self.rnn_2 = tf.keras.layers.LSTM(hidden_size, return_sequences=True)\n",
    "        self.linear = tf.keras.layers.Dense(vocab_size)\n",
    "        \n",
    "    def call(self, x):\n",
    "        out = self.embedding(x)\n",
    "        out = self.rnn_1(out)\n",
    "        out = self.rnn_2(out)\n",
    "#         out = self.lstm(out)\n",
    "#         out = self.lstm2(out)\n",
    "        out = self.linear(out)\n",
    "        \n",
    "        return out\n",
    "\n",
    "embedding_size = 1024\n",
    "hidden_size = 4096\n",
    "model = TextGenerator(tokenizer.num_words + 1, embedding_size , hidden_size)\n",
    "# 데이터셋에서 데이터 한 배치만 불러오는 방법입니다.\n",
    "for src_sample, tgt_sample in dataset.take(1): break\n",
    "\n",
    "# 한 배치만 불러온 데이터를 모델에 넣어봅니다\n",
    "model(src_sample)"
   ]
  },
  {
   "cell_type": "code",
   "execution_count": 21,
   "id": "bed34140",
   "metadata": {},
   "outputs": [
    {
     "data": {
      "text/plain": [
       "'<start> i love sailor malignantly malignantly grind dole malignantly grind '"
      ]
     },
     "execution_count": 21,
     "metadata": {},
     "output_type": "execute_result"
    }
   ],
   "source": [
    "generate_text(model, tokenizer, init_sentence=\"<start> i love\", max_len=10)"
   ]
  }
 ],
 "metadata": {
  "kernelspec": {
   "display_name": "Python 3 (ipykernel)",
   "language": "python",
   "name": "python3"
  },
  "language_info": {
   "codemirror_mode": {
    "name": "ipython",
    "version": 3
   },
   "file_extension": ".py",
   "mimetype": "text/x-python",
   "name": "python",
   "nbconvert_exporter": "python",
   "pygments_lexer": "ipython3",
   "version": "3.9.7"
  }
 },
 "nbformat": 4,
 "nbformat_minor": 5
}
